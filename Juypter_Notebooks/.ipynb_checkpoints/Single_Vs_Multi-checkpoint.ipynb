{
 "cells": [
  {
   "cell_type": "code",
   "execution_count": 2,
   "id": "e803a653",
   "metadata": {},
   "outputs": [],
   "source": [
    "import pandas as pd\n",
    "import numpy as np\n",
    "import matplotlib.pyplot as plt\n",
    "%matplotlib inline\n",
    "import h5py\n",
    "import json\n",
    "#from matplotlib.ticker import ScalarFormatter, AutoMinorLocator\n",
    "import warnings\n",
    "warnings.filterwarnings('ignore')\n",
    "import os\n",
    "import seaborn as sns\n",
    "import random\n",
    "import os\n",
    "import pickle\n",
    "from scipy.interpolate import interp1d\n",
    "from scipy.optimize import brentq\n",
    "from sklearn import metrics\n",
    "#import matplotlib.pyplot as plt\n",
    "import os"
   ]
  },
  {
   "cell_type": "code",
   "execution_count": 3,
   "id": "ae3b075e",
   "metadata": {},
   "outputs": [],
   "source": [
    "list_single=[]\n",
    "Results_path=\"/Users/avinashkumarchaurasia/Desktop/project/BrainModels/Results\"\n",
    "for dataset in os.listdir(Results_path):\n",
    "    dataset_path=os.path.join(Results_path, dataset, \"Experiments\")\n",
    "    #print(dataset_path)\n",
    "    #print(dataset_path)\n",
    "    for results in os.listdir(dataset_path):\n",
    "        if (results=='Single_Session'):\n",
    "            single_session_path=os.path.join(dataset_path, results)\n",
    "            \n",
    "            for classifiers in os.listdir(single_session_path):\n",
    "                classifier_path=os.path.join(single_session_path, classifiers)\n",
    "                \n",
    "                for scenario in os.listdir(classifier_path):\n",
    "                    \n",
    "                    scenaario_path=os.path.join(classifier_path, scenario)\n",
    "                    df=pd.read_csv(scenaario_path)\n",
    "                    list_single.append(df)\n",
    "                    \n",
    "                    #print(scenaario_path)\n",
    "                    #print(scenario)\n",
    "                #print(classifier_path)\n",
    "                #print(classifiers)\n",
    "            #print(single_session_path)\n",
    "        else:\n",
    "            continue\n",
    "            "
   ]
  },
  {
   "cell_type": "code",
   "execution_count": 4,
   "id": "5e27713f",
   "metadata": {},
   "outputs": [],
   "source": [
    "df_single=pd.concat(list_single, axis=0)"
   ]
  },
  {
   "cell_type": "code",
   "execution_count": null,
   "id": "685ea5c4",
   "metadata": {},
   "outputs": [],
   "source": [
    "list_multi=[]\n",
    "Results_path=\"/Users/avinashkumarchaurasia/Desktop/project/BrainModels/Results\"\n",
    "for dataset in os.listdir(Results_path):\n",
    "    dataset_path=os.path.join(Results_path, dataset, \"Experiments\")\n",
    "    #print(dataset_path)\n",
    "    #print(dataset_path)\n",
    "    for results in os.listdir(dataset_path):\n",
    "        if (results=='Multi_Session'):\n",
    "            single_session_path=os.path.join(dataset_path, results)\n",
    "            \n",
    "            for classifiers in os.listdir(single_session_path):\n",
    "                classifier_path=os.path.join(single_session_path, classifiers)\n",
    "                \n",
    "                for scenario in os.listdir(classifier_path):\n",
    "                    \n",
    "                    scenaario_path=os.path.join(classifier_path, scenario)\n",
    "                    df=pd.read_csv(scenaario_path)\n",
    "                    list_multi.append(df)\n",
    "                    \n",
    "                    #print(scenaario_path)\n",
    "                    #print(scenario)\n",
    "                #print(classifier_path)\n",
    "                #print(classifiers)\n",
    "            #print(single_session_path)\n",
    "        else:\n",
    "            continue\n",
    "            "
   ]
  },
  {
   "cell_type": "code",
   "execution_count": null,
   "id": "cd0d2559",
   "metadata": {},
   "outputs": [],
   "source": [
    "df_multi=pd.concat(list_multi, axis=0)"
   ]
  },
  {
   "cell_type": "code",
   "execution_count": null,
   "id": "7ee66ca7",
   "metadata": {},
   "outputs": [],
   "source": [
    "df_multi"
   ]
  }
 ],
 "metadata": {
  "kernelspec": {
   "display_name": "Python [conda env:New_mater_thesis_env]",
   "language": "python",
   "name": "conda-env-New_mater_thesis_env-py"
  },
  "language_info": {
   "codemirror_mode": {
    "name": "ipython",
    "version": 3
   },
   "file_extension": ".py",
   "mimetype": "text/x-python",
   "name": "python",
   "nbconvert_exporter": "python",
   "pygments_lexer": "ipython3",
   "version": "3.9.15"
  }
 },
 "nbformat": 4,
 "nbformat_minor": 5
}
