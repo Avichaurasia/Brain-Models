{
 "cells": [
  {
   "cell_type": "code",
   "execution_count": null,
   "id": "5fc35fa6",
   "metadata": {},
   "outputs": [],
   "source": [
    "\"\"\"\n",
    "A dataset handle and abstract low level access to the data. the dataset will\n",
    "takes data stored locally, in the format in which they have been downloaded,\n",
    "and will convert them into a MNE raw object. There are options to pool all the\n",
    "different recording sessions per subject or to evaluate them separately.\n",
    "See https://github.com/NeuroTechX/moabb/wiki/Datasets-Support for detail\n",
    "on datasets (electrodes, number of trials, sessions, etc.)\n",
    "\"\"\"\n",
    "# flake8: noqa\n",
    "from .alex_mi import AlexMI\n",
    "from .bbci_eeg_fnirs import Shin2017A, Shin2017B\n",
    "from .bnci import (\n",
    "    BNCI2014001,\n",
    "    BNCI2014002,\n",
    "    BNCI2014004,\n",
    "    BNCI2014008,\n",
    "    BNCI2014009,\n",
    "    BNCI2015001,\n",
    "    BNCI2015003,\n",
    "    BNCI2015004,\n",
    ")\n",
    "from .braininvaders import bi2012, bi2013a, bi2014a, bi2014b, bi2015a, bi2015b\n",
    "from .epfl import EPFLP300\n",
    "from .gigadb import Cho2017\n",
    "from .huebner_llp import Huebner2017, Huebner2018\n",
    "from .Lee2019 import Lee2019_ERP, Lee2019_MI, Lee2019_SSVEP\n",
    "from .mpi_mi import MunichMI\n",
    "from .neiry import DemonsP300\n",
    "from .physionet_mi import PhysionetMI\n",
    "from .schirrmeister2017 import Schirrmeister2017\n",
    "from .sosulski2019 import Sosulski2019\n",
    "from .ssvep_exo import SSVEPExo\n",
    "from .ssvep_mamem import MAMEM1, MAMEM2, MAMEM3\n",
    "from .ssvep_nakanishi import Nakanishi2015\n",
    "from .ssvep_wang import Wang2016\n",
    "from .upper_limb import Ofner2017\n",
    "from .Weibo2014 import Weibo2014\n",
    "from .Zhou2016 import Zhou2016"
   ]
  }
 ],
 "metadata": {
  "kernelspec": {
   "display_name": "Python [conda env:master_thesis]",
   "language": "python",
   "name": "conda-env-master_thesis-py"
  },
  "language_info": {
   "codemirror_mode": {
    "name": "ipython",
    "version": 3
   },
   "file_extension": ".py",
   "mimetype": "text/x-python",
   "name": "python",
   "nbconvert_exporter": "python",
   "pygments_lexer": "ipython3",
   "version": "3.9.15"
  }
 },
 "nbformat": 4,
 "nbformat_minor": 5
}
